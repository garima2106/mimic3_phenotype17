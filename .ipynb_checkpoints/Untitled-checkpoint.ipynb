{
 "cells": [
  {
   "cell_type": "code",
   "execution_count": 1,
   "id": "0623fed7-6bbf-4f90-a56a-fff1d1f6f023",
   "metadata": {
    "tags": []
   },
   "outputs": [
    {
     "name": "stdout",
     "output_type": "stream",
     "text": [
      "\u001b[1m\u001b[37mcse-stmi-s1.cse.tamu.edu     \u001b[m  Sun Mar  3 13:09:38 2024  \u001b[1m\u001b[30m470.182.03\u001b[m\n",
      "\u001b[36m[0]\u001b[m \u001b[34mNVIDIA GeForce GTX 1080 Ti\u001b[m |\u001b[1m\u001b[31m 69°C\u001b[m, \u001b[1m\u001b[32m100 %\u001b[m | \u001b[36m\u001b[1m\u001b[33m10814\u001b[m / \u001b[33m11178\u001b[m MB | \u001b[1m\u001b[30mnjfernandes24\u001b[m(\u001b[33m5689M\u001b[m) \u001b[1m\u001b[30mnjfernandes24\u001b[m(\u001b[33m5121M\u001b[m)\n",
      "\u001b[36m[1]\u001b[m \u001b[34mNVIDIA GeForce GTX 1080 Ti\u001b[m |\u001b[31m 24°C\u001b[m, \u001b[32m  0 %\u001b[m | \u001b[36m\u001b[1m\u001b[33m  847\u001b[m / \u001b[33m11178\u001b[m MB | \u001b[1m\u001b[30mzhale\u001b[m(\u001b[33m843M\u001b[m)\n",
      "\u001b[36m[2]\u001b[m \u001b[34mNVIDIA GeForce GTX 1080 Ti\u001b[m |\u001b[1m\u001b[31m 72°C\u001b[m, \u001b[1m\u001b[32m100 %\u001b[m | \u001b[36m\u001b[1m\u001b[33m 9566\u001b[m / \u001b[33m11178\u001b[m MB | \u001b[1m\u001b[30mnjfernandes24\u001b[m(\u001b[33m4585M\u001b[m) \u001b[1m\u001b[30mnjfernandes24\u001b[m(\u001b[33m4977M\u001b[m)\n",
      "\u001b[36m[3]\u001b[m \u001b[34mNVIDIA GeForce GTX 1080 Ti\u001b[m |\u001b[1m\u001b[31m 73°C\u001b[m, \u001b[1m\u001b[32m100 %\u001b[m | \u001b[36m\u001b[1m\u001b[33m 6825\u001b[m / \u001b[33m11178\u001b[m MB | \u001b[1m\u001b[30maa_ron_su\u001b[m(\u001b[33m6821M\u001b[m)\n",
      "\u001b[36m[4]\u001b[m \u001b[34mNVIDIA GeForce GTX 1080 Ti\u001b[m |\u001b[1m\u001b[31m 73°C\u001b[m, \u001b[1m\u001b[32m100 %\u001b[m | \u001b[36m\u001b[1m\u001b[33m 8354\u001b[m / \u001b[33m11178\u001b[m MB | \u001b[1m\u001b[30mnjfernandes24\u001b[m(\u001b[33m4175M\u001b[m) \u001b[1m\u001b[30mnjfernandes24\u001b[m(\u001b[33m4175M\u001b[m)\n",
      "\u001b[36m[5]\u001b[m \u001b[34mNVIDIA GeForce GTX 1080 Ti\u001b[m |\u001b[1m\u001b[31m 77°C\u001b[m, \u001b[1m\u001b[32m 98 %\u001b[m | \u001b[36m\u001b[1m\u001b[33m10140\u001b[m / \u001b[33m11178\u001b[m MB | \u001b[1m\u001b[30mnjfernandes24\u001b[m(\u001b[33m4913M\u001b[m) \u001b[1m\u001b[30mnjfernandes24\u001b[m(\u001b[33m5223M\u001b[m)\n",
      "\u001b[36m[6]\u001b[m \u001b[34mNVIDIA GeForce GTX 1080 Ti\u001b[m |\u001b[1m\u001b[31m 50°C\u001b[m, \u001b[32m  0 %\u001b[m | \u001b[36m\u001b[1m\u001b[33m11135\u001b[m / \u001b[33m11178\u001b[m MB | \u001b[1m\u001b[30mshivesh_2001\u001b[m(\u001b[33m11131M\u001b[m)\n",
      "\u001b[36m[7]\u001b[m \u001b[34mNVIDIA GeForce GTX 1080 Ti\u001b[m |\u001b[1m\u001b[31m 74°C\u001b[m, \u001b[1m\u001b[32m 99 %\u001b[m | \u001b[36m\u001b[1m\u001b[33m 9090\u001b[m / \u001b[33m11178\u001b[m MB | \u001b[1m\u001b[30mnjfernandes24\u001b[m(\u001b[33m4913M\u001b[m) \u001b[1m\u001b[30mnjfernandes24\u001b[m(\u001b[33m4173M\u001b[m)\n"
     ]
    }
   ],
   "source": [
    "!gpustat"
   ]
  },
  {
   "cell_type": "code",
   "execution_count": 2,
   "id": "f4c09e4a-40e2-4ddd-99a8-5cc31e7027b1",
   "metadata": {
    "tags": []
   },
   "outputs": [
    {
     "name": "stderr",
     "output_type": "stream",
     "text": [
      "Matplotlib is building the font cache; this may take a moment.\n"
     ]
    }
   ],
   "source": [
    "import matplotlib.pyplot as plt\n",
    "import seaborn as sns\n",
    "\n",
    "def analyze_feature_distribution(dataset):\n",
    "    # Extract features from the dataset\n",
    "    features = dataset.data_df.columns[2:]\n",
    "\n",
    "    # Plot histograms for numerical features\n",
    "    for feature in features:\n",
    "        plt.figure(figsize=(10, 6))\n",
    "        plt.title(f'Distribution of {feature} in Training Data')\n",
    "        if dataset.data_df[feature].dtype == 'O':\n",
    "            sns.countplot(x=feature, data=dataset.data_df)\n",
    "        else:\n",
    "            sns.histplot(dataset.data_df[feature], kde=True)\n",
    "            plt.xlabel(feature)\n",
    "        plt.show()\n",
    "\n",
    "    # Box plots for numerical features\n",
    "    for feature in features:\n",
    "        if dataset.data_df[feature].dtype != 'O':\n",
    "            plt.figure(figsize=(8, 5))\n",
    "            plt.title(f'Box Plot of {feature} in Training Data')\n",
    "            sns.boxplot(x=dataset.data_df[feature])\n",
    "            plt.xlabel(feature)\n",
    "            plt.show()\n",
    "\n",
    "    # Correlation matrix\n",
    "    correlation_matrix = dataset.data_df[features].corr()\n",
    "    plt.figure(figsize=(12, 8))\n",
    "    plt.title('Correlation Matrix of Numerical Features')\n",
    "    sns.heatmap(correlation_matrix, annot=True, cmap='coolwarm', fmt=\".2f\")\n",
    "    plt.show()"
   ]
  },
  {
   "cell_type": "code",
   "execution_count": 4,
   "id": "d1641314-a6d8-4442-b0b5-e15282cc818e",
   "metadata": {
    "tags": []
   },
   "outputs": [
    {
     "ename": "ModuleNotFoundError",
     "evalue": "No module named 'torch._C'",
     "output_type": "error",
     "traceback": [
      "\u001b[0;31m---------------------------------------------------------------------------\u001b[0m",
      "\u001b[0;31mModuleNotFoundError\u001b[0m                       Traceback (most recent call last)",
      "Cell \u001b[0;32mIn[4], line 21\u001b[0m\n\u001b[1;32m     19\u001b[0m \u001b[38;5;28;01mimport\u001b[39;00m \u001b[38;5;21;01mpandas\u001b[39;00m \u001b[38;5;28;01mas\u001b[39;00m \u001b[38;5;21;01mpd\u001b[39;00m\n\u001b[1;32m     20\u001b[0m \u001b[38;5;28;01mimport\u001b[39;00m \u001b[38;5;21;01mnumpy\u001b[39;00m \u001b[38;5;28;01mas\u001b[39;00m \u001b[38;5;21;01mnp\u001b[39;00m\n\u001b[0;32m---> 21\u001b[0m \u001b[38;5;28;01mfrom\u001b[39;00m \u001b[38;5;21;01mutils\u001b[39;00m \u001b[38;5;28;01mimport\u001b[39;00m MimicDataSetPhenotyping, calculate_auc_roc, calculate_auc_prc\n\u001b[1;32m     22\u001b[0m \u001b[38;5;66;03m#pd.set_option('future.no_silent_downcasting',True)\u001b[39;00m\n\u001b[1;32m     23\u001b[0m pd\u001b[38;5;241m.\u001b[39mset_option(\u001b[38;5;124m'\u001b[39m\u001b[38;5;124mmode.use_inf_as_na\u001b[39m\u001b[38;5;124m'\u001b[39m, \u001b[38;5;28;01mTrue\u001b[39;00m)\n",
      "File \u001b[0;32m~/mimic3-benchmarks/mimic3_phenotype17_code/utils.py:4\u001b[0m\n\u001b[1;32m      2\u001b[0m \u001b[38;5;28;01mimport\u001b[39;00m \u001b[38;5;21;01mnumpy\u001b[39;00m \u001b[38;5;28;01mas\u001b[39;00m \u001b[38;5;21;01mnp\u001b[39;00m\n\u001b[1;32m      3\u001b[0m \u001b[38;5;28;01mimport\u001b[39;00m \u001b[38;5;21;01mpandas\u001b[39;00m \u001b[38;5;28;01mas\u001b[39;00m \u001b[38;5;21;01mpd\u001b[39;00m\n\u001b[0;32m----> 4\u001b[0m \u001b[38;5;28;01mfrom\u001b[39;00m \u001b[38;5;21;01mtorch\u001b[39;00m\u001b[38;5;21;01m.\u001b[39;00m\u001b[38;5;21;01mutils\u001b[39;00m\u001b[38;5;21;01m.\u001b[39;00m\u001b[38;5;21;01mdata\u001b[39;00m \u001b[38;5;28;01mimport\u001b[39;00m Dataset\n\u001b[1;32m      6\u001b[0m \u001b[38;5;28;01mclass\u001b[39;00m \u001b[38;5;21;01mMimicDataSetPhenotyping\u001b[39;00m(Dataset):\n\u001b[1;32m      7\u001b[0m     \u001b[38;5;28;01mdef\u001b[39;00m \u001b[38;5;21m__init__\u001b[39m(\u001b[38;5;28mself\u001b[39m, data_dir, csv_file, mean_variance, cat_dict, mode, seq_len, pad_value\u001b[38;5;241m=\u001b[39m\u001b[38;5;241m0\u001b[39m, device\u001b[38;5;241m=\u001b[39m\u001b[38;5;124m'\u001b[39m\u001b[38;5;124mcuda\u001b[39m\u001b[38;5;124m'\u001b[39m):\n",
      "File \u001b[0;32m~/anaconda3/lib/python3.11/site-packages/torch/utils/__init__.py:4\u001b[0m\n\u001b[1;32m      1\u001b[0m \u001b[38;5;28;01mimport\u001b[39;00m \u001b[38;5;21;01mos\u001b[39;00m\u001b[38;5;21;01m.\u001b[39;00m\u001b[38;5;21;01mpath\u001b[39;00m \u001b[38;5;28;01mas\u001b[39;00m \u001b[38;5;21;01m_osp\u001b[39;00m\n\u001b[1;32m      2\u001b[0m \u001b[38;5;28;01mimport\u001b[39;00m \u001b[38;5;21;01mtorch\u001b[39;00m\n\u001b[0;32m----> 4\u001b[0m \u001b[38;5;28;01mfrom\u001b[39;00m \u001b[38;5;21;01m.\u001b[39;00m\u001b[38;5;21;01mthroughput_benchmark\u001b[39;00m \u001b[38;5;28;01mimport\u001b[39;00m ThroughputBenchmark\n\u001b[1;32m      5\u001b[0m \u001b[38;5;28;01mfrom\u001b[39;00m \u001b[38;5;21;01m.\u001b[39;00m\u001b[38;5;21;01mcpp_backtrace\u001b[39;00m \u001b[38;5;28;01mimport\u001b[39;00m get_cpp_backtrace\n\u001b[1;32m      6\u001b[0m \u001b[38;5;28;01mfrom\u001b[39;00m \u001b[38;5;21;01m.\u001b[39;00m\u001b[38;5;21;01mbackend_registration\u001b[39;00m \u001b[38;5;28;01mimport\u001b[39;00m rename_privateuse1_backend, generate_methods_for_privateuse1_backend\n",
      "File \u001b[0;32m~/anaconda3/lib/python3.11/site-packages/torch/utils/throughput_benchmark.py:2\u001b[0m\n\u001b[0;32m----> 2\u001b[0m \u001b[38;5;28;01mimport\u001b[39;00m \u001b[38;5;21;01mtorch\u001b[39;00m\u001b[38;5;21;01m.\u001b[39;00m\u001b[38;5;21;01m_C\u001b[39;00m\n\u001b[1;32m      5\u001b[0m \u001b[38;5;28;01mdef\u001b[39;00m \u001b[38;5;21mformat_time\u001b[39m(time_us\u001b[38;5;241m=\u001b[39m\u001b[38;5;28;01mNone\u001b[39;00m, time_ms\u001b[38;5;241m=\u001b[39m\u001b[38;5;28;01mNone\u001b[39;00m, time_s\u001b[38;5;241m=\u001b[39m\u001b[38;5;28;01mNone\u001b[39;00m):\n\u001b[1;32m      6\u001b[0m \u001b[38;5;250m    \u001b[39m\u001b[38;5;124;03m\"\"\"Define time formatting.\"\"\"\u001b[39;00m\n",
      "\u001b[0;31mModuleNotFoundError\u001b[0m: No module named 'torch._C'"
     ]
    }
   ],
   "source": [
    "MAX_LEN = 256\n",
    "batch_size = 32\n",
    "d_model = 128 \n",
    "num_heads = 8\n",
    "N = 6\n",
    "num_variables = 17 \n",
    "num_variables += 1 #for no variable embedding while doing padding\n",
    "d_ff = 512\n",
    "epochs = 75\n",
    "learning_rate = 1e-4 \n",
    "drop_out = 0.1\n",
    "sinusoidal = True\n",
    "th_val_roc = 0.84\n",
    "th_val_pr = 0.48\n",
    "num_classes = 25\n",
    "import torch\n",
    "DEVICE = 'cuda' if torch.cuda.is_available() else 'cpu'\n",
    "\n",
    "import pandas as pd\n",
    "import numpy as np\n",
    "from utils import MimicDataSetPhenotyping, calculate_auc_roc, calculate_auc_prc\n",
    "#pd.set_option('future.no_silent_downcasting',True)\n",
    "pd.set_option('mode.use_inf_as_na', True)\n",
    "\n",
    "import torch\n",
    "import torch.nn as nn\n",
    "from torch.utils.data import Dataset, DataLoader, random_split\n",
    "from torch.nn import functional as F\n",
    "\n",
    "from model import Model\n",
    "from tqdm import tqdm\n",
    "from normalizer import Normalizer\n",
    "from categorizer import Categorizer\n",
    "\n",
    "\n",
    "train_data_path = \"/data/datasets/mimic3-benchmarks/data/phenotyping/train_listfile.csv\"\n",
    "val_data_path = \"/data/datasets/mimic3-benchmarks/data/phenotyping/val_listfile.csv\"\n",
    "\n",
    "data_dir = \"/data/datasets/mimic3-benchmarks/data/phenotyping/train/\"\n",
    "\n",
    "\n",
    "import pickle\n",
    "\n",
    "with open('normalizer.pkl', 'rb') as file:\n",
    "    normalizer = pickle.load(file)\n",
    "\n",
    "with open('categorizer.pkl', 'rb') as file:\n",
    "    categorizer = pickle.load(file)\n",
    "    \n",
    "\n",
    "mean_variance = normalizer.mean_var_dict\n",
    "cat_dict = categorizer.category_dict\n",
    "\n",
    "\n",
    "train_ds = MimicDataSetPhenotyping(data_dir, train_data_path, mean_variance, cat_dict, 'training', MAX_LEN)"
   ]
  },
  {
   "cell_type": "code",
   "execution_count": null,
   "id": "a7c8ee6d-b424-4f13-a9f1-8b7c7c6a69a6",
   "metadata": {},
   "outputs": [],
   "source": [
    "analyze_feature_distribution(train_ds)"
   ]
  },
  {
   "cell_type": "code",
   "execution_count": null,
   "id": "23ba896b-3abb-4234-ba75-b7bd49b75bd8",
   "metadata": {},
   "outputs": [],
   "source": []
  }
 ],
 "metadata": {
  "kernelspec": {
   "display_name": "Python 3 (ipykernel)",
   "language": "python",
   "name": "python3"
  },
  "language_info": {
   "codemirror_mode": {
    "name": "ipython",
    "version": 3
   },
   "file_extension": ".py",
   "mimetype": "text/x-python",
   "name": "python",
   "nbconvert_exporter": "python",
   "pygments_lexer": "ipython3",
   "version": "3.11.5"
  }
 },
 "nbformat": 4,
 "nbformat_minor": 5
}
