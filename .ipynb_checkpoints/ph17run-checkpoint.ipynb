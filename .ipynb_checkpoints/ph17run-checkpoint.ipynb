{
 "cells": [
  {
   "cell_type": "code",
   "execution_count": 1,
   "id": "8e685406-22d5-4ee7-8253-e943ec88bb5c",
   "metadata": {},
   "outputs": [
    {
     "name": "stdout",
     "output_type": "stream",
     "text": [
      "\u001b[1m\u001b[37mcse-stmi-s1.cse.tamu.edu     \u001b[m  Sun Mar  3 12:58:55 2024  \u001b[1m\u001b[30m470.182.03\u001b[m\n",
      "\u001b[36m[0]\u001b[m \u001b[34mNVIDIA GeForce GTX 1080 Ti\u001b[m |\u001b[1m\u001b[31m 69°C\u001b[m, \u001b[1m\u001b[32m 94 %\u001b[m | \u001b[36m\u001b[1m\u001b[33m10814\u001b[m / \u001b[33m11178\u001b[m MB | \u001b[1m\u001b[30mnjfernandes24\u001b[m(\u001b[33m5689M\u001b[m) \u001b[1m\u001b[30mnjfernandes24\u001b[m(\u001b[33m5121M\u001b[m)\n",
      "\u001b[36m[1]\u001b[m \u001b[34mNVIDIA GeForce GTX 1080 Ti\u001b[m |\u001b[31m 24°C\u001b[m, \u001b[32m  0 %\u001b[m | \u001b[36m\u001b[1m\u001b[33m  847\u001b[m / \u001b[33m11178\u001b[m MB | \u001b[1m\u001b[30mzhale\u001b[m(\u001b[33m843M\u001b[m)\n",
      "\u001b[36m[2]\u001b[m \u001b[34mNVIDIA GeForce GTX 1080 Ti\u001b[m |\u001b[1m\u001b[31m 74°C\u001b[m, \u001b[1m\u001b[32m 99 %\u001b[m | \u001b[36m\u001b[1m\u001b[33m 9436\u001b[m / \u001b[33m11178\u001b[m MB | \u001b[1m\u001b[30mnjfernandes24\u001b[m(\u001b[33m4847M\u001b[m) \u001b[1m\u001b[30mnjfernandes24\u001b[m(\u001b[33m4585M\u001b[m)\n",
      "\u001b[36m[3]\u001b[m \u001b[34mNVIDIA GeForce GTX 1080 Ti\u001b[m |\u001b[1m\u001b[31m 74°C\u001b[m, \u001b[1m\u001b[32m 97 %\u001b[m | \u001b[36m\u001b[1m\u001b[33m 6825\u001b[m / \u001b[33m11178\u001b[m MB | \u001b[1m\u001b[30maa_ron_su\u001b[m(\u001b[33m6821M\u001b[m)\n",
      "\u001b[36m[4]\u001b[m \u001b[34mNVIDIA GeForce GTX 1080 Ti\u001b[m |\u001b[1m\u001b[31m 74°C\u001b[m, \u001b[1m\u001b[32m 95 %\u001b[m | \u001b[36m\u001b[1m\u001b[33m 8354\u001b[m / \u001b[33m11178\u001b[m MB | \u001b[1m\u001b[30mnjfernandes24\u001b[m(\u001b[33m4175M\u001b[m) \u001b[1m\u001b[30mnjfernandes24\u001b[m(\u001b[33m4175M\u001b[m)\n",
      "\u001b[36m[5]\u001b[m \u001b[34mNVIDIA GeForce GTX 1080 Ti\u001b[m |\u001b[1m\u001b[31m 77°C\u001b[m, \u001b[1m\u001b[32m 99 %\u001b[m | \u001b[36m\u001b[1m\u001b[33m10140\u001b[m / \u001b[33m11178\u001b[m MB | \u001b[1m\u001b[30mnjfernandes24\u001b[m(\u001b[33m4913M\u001b[m) \u001b[1m\u001b[30mnjfernandes24\u001b[m(\u001b[33m5223M\u001b[m)\n",
      "\u001b[36m[6]\u001b[m \u001b[34mNVIDIA GeForce GTX 1080 Ti\u001b[m |\u001b[1m\u001b[31m 54°C\u001b[m, \u001b[1m\u001b[32m 86 %\u001b[m | \u001b[36m\u001b[1m\u001b[33m11135\u001b[m / \u001b[33m11178\u001b[m MB | \u001b[1m\u001b[30mshivesh_2001\u001b[m(\u001b[33m11131M\u001b[m)\n",
      "\u001b[36m[7]\u001b[m \u001b[34mNVIDIA GeForce GTX 1080 Ti\u001b[m |\u001b[1m\u001b[31m 75°C\u001b[m, \u001b[1m\u001b[32m 95 %\u001b[m | \u001b[36m\u001b[1m\u001b[33m 9090\u001b[m / \u001b[33m11178\u001b[m MB | \u001b[1m\u001b[30mnjfernandes24\u001b[m(\u001b[33m4913M\u001b[m) \u001b[1m\u001b[30mnjfernandes24\u001b[m(\u001b[33m4173M\u001b[m)\n"
     ]
    }
   ],
   "source": [
    "!gpustat"
   ]
  },
  {
   "cell_type": "code",
   "execution_count": 3,
   "id": "678d9c07-bda6-43b1-9c29-b8274bd787ef",
   "metadata": {
    "tags": []
   },
   "outputs": [
    {
     "name": "stdout",
     "output_type": "stream",
     "text": [
      "Completed Saving Categorizer........\n"
     ]
    }
   ],
   "source": [
    "!python categorizer.py"
   ]
  },
  {
   "cell_type": "code",
   "execution_count": 4,
   "id": "f249c59b-09f3-4a88-a8a6-055acc017563",
   "metadata": {
    "tags": []
   },
   "outputs": [
    {
     "name": "stdout",
     "output_type": "stream",
     "text": [
      "100%|█████████████████████████████████████| 29250/29250 [06:45<00:00, 72.15it/s]\n",
      "Completed Saving Normalizer........\n"
     ]
    }
   ],
   "source": [
    "!python normalizer.py"
   ]
  },
  {
   "cell_type": "code",
   "execution_count": 4,
   "id": "13d81bbd-cfeb-4916-a663-b97598835a94",
   "metadata": {
    "tags": []
   },
   "outputs": [
    {
     "name": "stdout",
     "output_type": "stream",
     "text": [
      "Traceback (most recent call last):\n",
      "  File \"main.py\", line 16, in <module>\n",
      "    import torch\n",
      "ModuleNotFoundError: No module named 'torch'\n"
     ]
    }
   ],
   "source": [
    "!CUDA_VISIBLE_DEVICES=1 python main.py"
   ]
  },
  {
   "cell_type": "code",
   "execution_count": 3,
   "id": "6909b0de-6974-43f2-a775-df96a339561b",
   "metadata": {},
   "outputs": [
    {
     "name": "stdout",
     "output_type": "stream",
     "text": [
      "Requirement already satisfied: torch in /home/grads/g/gbadhan/anaconda3/envs/prep_env/lib/python3.7/site-packages (1.13.1)\n",
      "Requirement already satisfied: nvidia-cudnn-cu11==8.5.0.96 in /home/grads/g/gbadhan/anaconda3/envs/prep_env/lib/python3.7/site-packages (from torch) (8.5.0.96)\n",
      "Requirement already satisfied: nvidia-cuda-nvrtc-cu11==11.7.99 in /home/grads/g/gbadhan/anaconda3/envs/prep_env/lib/python3.7/site-packages (from torch) (11.7.99)\n",
      "Requirement already satisfied: nvidia-cublas-cu11==11.10.3.66 in /home/grads/g/gbadhan/anaconda3/envs/prep_env/lib/python3.7/site-packages (from torch) (11.10.3.66)\n",
      "Requirement already satisfied: nvidia-cuda-runtime-cu11==11.7.99 in /home/grads/g/gbadhan/anaconda3/envs/prep_env/lib/python3.7/site-packages (from torch) (11.7.99)\n",
      "Requirement already satisfied: typing-extensions in /home/grads/g/gbadhan/anaconda3/envs/prep_env/lib/python3.7/site-packages (from torch) (4.7.1)\n",
      "Requirement already satisfied: wheel in /home/grads/g/gbadhan/anaconda3/envs/prep_env/lib/python3.7/site-packages (from nvidia-cublas-cu11==11.10.3.66->torch) (0.38.4)\n",
      "Requirement already satisfied: setuptools in /home/grads/g/gbadhan/anaconda3/envs/prep_env/lib/python3.7/site-packages (from nvidia-cublas-cu11==11.10.3.66->torch) (65.6.3)\n"
     ]
    }
   ],
   "source": [
    "!pip install torch"
   ]
  },
  {
   "cell_type": "code",
   "execution_count": null,
   "id": "d7a3e8f8-f4e3-4f39-97a5-3512533696fc",
   "metadata": {},
   "outputs": [],
   "source": []
  }
 ],
 "metadata": {
  "kernelspec": {
   "display_name": "Python 3 (ipykernel)",
   "language": "python",
   "name": "python3"
  },
  "language_info": {
   "codemirror_mode": {
    "name": "ipython",
    "version": 3
   },
   "file_extension": ".py",
   "mimetype": "text/x-python",
   "name": "python",
   "nbconvert_exporter": "python",
   "pygments_lexer": "ipython3",
   "version": "3.11.5"
  }
 },
 "nbformat": 4,
 "nbformat_minor": 5
}
